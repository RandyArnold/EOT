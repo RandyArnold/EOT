{
 "cells": [
  {
   "cell_type": "code",
   "execution_count": 1,
   "metadata": {},
   "outputs": [],
   "source": [
    "import cv2\n",
    "import os "
   ]
  },
  {
   "cell_type": "code",
   "execution_count": 2,
   "metadata": {},
   "outputs": [],
   "source": [
    "train_folder=os.listdir(\"data/train/BD5\")\n",
    "validation_folder=os.listdir(\"data/colorsizeTest\")"
   ]
  },
  {
   "cell_type": "code",
   "execution_count": 10,
   "metadata": {},
   "outputs": [],
   "source": [
    "for t_folder in train_folder: \n",
    "    if t_folder != '.DS_Store': \n",
    "        t_images=os.listdir(\"data/train/BD5/\"+t_folder)\n",
    "        t_odd=False\n",
    "        for t_image in t_images :\n",
    "            if t_image != '.DS_Store' : \n",
    "                t_img=cv2.imread('data/train/BD5/'+t_folder+'/'+t_image, cv2.IMREAD_GRAYSCALE)\n",
    "                if t_odd:\n",
    "                    cv2.imwrite('data/validationDataSet/'+t_folder+'/'+t_image,t_img) \n",
    "                else: \n",
    "                    cv2.imwrite('data/trainDataSet/'+t_folder+'/'+t_image,t_img)\n",
    "                t_odd=not t_odd\n",
    "        v_images=os.listdir(\"data/colorsizeTest/\"+t_folder)\n",
    "        v_odd=False\n",
    "        for v_image in v_images :\n",
    "            if v_image != '.DS_Store' : \n",
    "                v_img=cv2.imread('data/colorsizeTest/'+t_folder+'/'+v_image, cv2.IMREAD_GRAYSCALE)\n",
    "                if v_odd:\n",
    "                    cv2.imwrite('data/validationDataSet/'+t_folder+'/'+v_image,v_img) \n",
    "                else: \n",
    "                    cv2.imwrite('data/trainDataSet/'+t_folder+'/'+v_image,v_img)\n",
    "                v_odd=not v_odd"
   ]
  },
  {
   "cell_type": "code",
   "execution_count": null,
   "metadata": {},
   "outputs": [],
   "source": []
  }
 ],
 "metadata": {
  "kernelspec": {
   "display_name": "Python 3",
   "language": "python",
   "name": "python3"
  },
  "language_info": {
   "codemirror_mode": {
    "name": "ipython",
    "version": 3
   },
   "file_extension": ".py",
   "mimetype": "text/x-python",
   "name": "python",
   "nbconvert_exporter": "python",
   "pygments_lexer": "ipython3",
   "version": "3.8.5"
  }
 },
 "nbformat": 4,
 "nbformat_minor": 4
}
